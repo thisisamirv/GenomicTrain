{
 "cells": [
  {
   "cell_type": "markdown",
   "id": "60bfd19f-05c7-40ed-a516-ae3cf6a4ff54",
   "metadata": {},
   "source": [
    "# The basic workflow of ML in genomics\n",
    "\n",
    "1. Data collection\n",
    "2. Preprocessing\n",
    "3. Exploratory data analysis (EDA) and visualization\n",
    "4. Feature extraction and selection\n",
    "5. Train-test splitting\n",
    "6. Model training\n",
    "7. Model evaluation\n",
    "8. Model interpretation\n",
    "9. Model deployment\n",
    "10. Model monitoring\n",
    "\n",
    "* For model evaluation, one may use many metrics such as MSE, MAE, RMSE, and R-Squared.\n",
    "* Some model-agnostic interpretability methods include: Local-Interpretable Modelagnostic Explanations (LIME), SHapley Additive ExPlanations (SHAP), and Explanation Summary (ExSUM)."
   ]
  },
  {
   "cell_type": "markdown",
   "id": "51405074-b95f-44d1-9d15-f28487f42f20",
   "metadata": {},
   "source": [
    "# Use case – Disease prediction\n",
    "\n",
    "* Goal: Mapping the relationships between individual patients’ sample gene expression values (features) and the target variable (Normal versus Tumor).\n",
    "* Task: Classification\n",
    "* Model: Logistic regression\n",
    "* Data structure: Each row of the data represents a patient sample that consists of gene expressions."
   ]
  },
  {
   "cell_type": "markdown",
   "id": "3a1b04aa-91a6-48d2-80e6-4c65b88d28f9",
   "metadata": {},
   "source": [
    "## Data collection\n",
    "\n",
    "We will use the gene expression data of lung cancer samples and we will try to predict normal versus tumor outcomes."
   ]
  },
  {
   "cell_type": "code",
   "execution_count": 1,
   "id": "4fb8bc72-3830-4566-8173-764d490f578b",
   "metadata": {
    "tags": []
   },
   "outputs": [],
   "source": [
    "import pandas as pd\n",
    "\n",
    "lung1 = pd.read_csv(\"Data/Lung/GSE87340.csv.zip\")\n",
    "lung2 = pd.read_csv(\"Data/Lung/GSE60052.csv.zip\")\n",
    "lung3 = pd.read_csv(\"Data/Lung/GSE40419.csv.zip\")\n",
    "lung4 = pd.read_csv(\"Data/Lung/GSE37764.csv.zip\")\n",
    "lung_1_4 = pd.concat([lung1, lung2, lung3, lung4])"
   ]
  },
  {
   "cell_type": "code",
   "execution_count": 2,
   "id": "9adee02d-d4bb-4b42-8deb-1b1a524d4f81",
   "metadata": {
    "tags": []
   },
   "outputs": [
    {
     "data": {
      "text/html": [
       "<div>\n",
       "<style scoped>\n",
       "    .dataframe tbody tr th:only-of-type {\n",
       "        vertical-align: middle;\n",
       "    }\n",
       "\n",
       "    .dataframe tbody tr th {\n",
       "        vertical-align: top;\n",
       "    }\n",
       "\n",
       "    .dataframe thead th {\n",
       "        text-align: right;\n",
       "    }\n",
       "</style>\n",
       "<table border=\"1\" class=\"dataframe\">\n",
       "  <thead>\n",
       "    <tr style=\"text-align: right;\">\n",
       "      <th></th>\n",
       "      <th>ID</th>\n",
       "      <th>class</th>\n",
       "      <th>ENSG00000000003</th>\n",
       "      <th>ENSG00000000005</th>\n",
       "      <th>ENSG00000000419</th>\n",
       "      <th>ENSG00000000457</th>\n",
       "      <th>ENSG00000000460</th>\n",
       "      <th>ENSG00000000938</th>\n",
       "      <th>ENSG00000000971</th>\n",
       "      <th>ENSG00000001036</th>\n",
       "    </tr>\n",
       "  </thead>\n",
       "  <tbody>\n",
       "    <tr>\n",
       "      <th>0</th>\n",
       "      <td>SRR4296063</td>\n",
       "      <td>Normal</td>\n",
       "      <td>10.728260</td>\n",
       "      <td>4.668142</td>\n",
       "      <td>10.278195</td>\n",
       "      <td>10.184036</td>\n",
       "      <td>8.215333</td>\n",
       "      <td>11.310861</td>\n",
       "      <td>13.178872</td>\n",
       "      <td>11.469473</td>\n",
       "    </tr>\n",
       "    <tr>\n",
       "      <th>1</th>\n",
       "      <td>SRR4296064</td>\n",
       "      <td>Tumor</td>\n",
       "      <td>11.332606</td>\n",
       "      <td>2.329988</td>\n",
       "      <td>10.127734</td>\n",
       "      <td>10.167900</td>\n",
       "      <td>8.174060</td>\n",
       "      <td>10.399611</td>\n",
       "      <td>13.208972</td>\n",
       "      <td>11.510862</td>\n",
       "    </tr>\n",
       "    <tr>\n",
       "      <th>2</th>\n",
       "      <td>SRR4296065</td>\n",
       "      <td>Normal</td>\n",
       "      <td>9.951182</td>\n",
       "      <td>4.264426</td>\n",
       "      <td>10.288874</td>\n",
       "      <td>10.093258</td>\n",
       "      <td>8.011385</td>\n",
       "      <td>11.814572</td>\n",
       "      <td>14.038661</td>\n",
       "      <td>11.651766</td>\n",
       "    </tr>\n",
       "    <tr>\n",
       "      <th>3</th>\n",
       "      <td>SRR4296066</td>\n",
       "      <td>Tumor</td>\n",
       "      <td>12.185680</td>\n",
       "      <td>2.798643</td>\n",
       "      <td>10.178582</td>\n",
       "      <td>10.401606</td>\n",
       "      <td>8.902321</td>\n",
       "      <td>10.294009</td>\n",
       "      <td>13.170466</td>\n",
       "      <td>11.546855</td>\n",
       "    </tr>\n",
       "    <tr>\n",
       "      <th>4</th>\n",
       "      <td>SRR4296067</td>\n",
       "      <td>Normal</td>\n",
       "      <td>9.875179</td>\n",
       "      <td>2.922071</td>\n",
       "      <td>10.444479</td>\n",
       "      <td>10.435843</td>\n",
       "      <td>8.692961</td>\n",
       "      <td>12.604934</td>\n",
       "      <td>13.538341</td>\n",
       "      <td>11.733252</td>\n",
       "    </tr>\n",
       "  </tbody>\n",
       "</table>\n",
       "</div>"
      ],
      "text/plain": [
       "           ID    class  ENSG00000000003  ENSG00000000005  ENSG00000000419  \\\n",
       "0  SRR4296063   Normal        10.728260         4.668142        10.278195   \n",
       "1  SRR4296064    Tumor        11.332606         2.329988        10.127734   \n",
       "2  SRR4296065   Normal         9.951182         4.264426        10.288874   \n",
       "3  SRR4296066    Tumor        12.185680         2.798643        10.178582   \n",
       "4  SRR4296067   Normal         9.875179         2.922071        10.444479   \n",
       "\n",
       "   ENSG00000000457  ENSG00000000460  ENSG00000000938  ENSG00000000971  \\\n",
       "0        10.184036         8.215333        11.310861        13.178872   \n",
       "1        10.167900         8.174060        10.399611        13.208972   \n",
       "2        10.093258         8.011385        11.814572        14.038661   \n",
       "3        10.401606         8.902321        10.294009        13.170466   \n",
       "4        10.435843         8.692961        12.604934        13.538341   \n",
       "\n",
       "   ENSG00000001036  \n",
       "0        11.469473  \n",
       "1        11.510862  \n",
       "2        11.651766  \n",
       "3        11.546855  \n",
       "4        11.733252  "
      ]
     },
     "execution_count": 2,
     "metadata": {},
     "output_type": "execute_result"
    }
   ],
   "source": [
    "# Check data\n",
    "lung_1_4.iloc[:,0:10].head()"
   ]
  },
  {
   "cell_type": "markdown",
   "id": "2951ef00-d21d-4ab9-ae27-dbf318fe6746",
   "metadata": {},
   "source": [
    "## Data preprocessing"
   ]
  },
  {
   "cell_type": "markdown",
   "id": "25bcc597-7ba4-4206-8abf-b5fcb44f81d4",
   "metadata": {},
   "source": [
    "### Dealing with missing data\n",
    "\n",
    "Remove it or impute it."
   ]
  },
  {
   "cell_type": "code",
   "execution_count": 3,
   "id": "99a9740b-db2b-4db0-bddb-01d9ac6f0182",
   "metadata": {
    "tags": []
   },
   "outputs": [
    {
     "data": {
      "text/plain": [
       "ID                 0\n",
       "class              0\n",
       "ENSG00000000003    0\n",
       "ENSG00000000005    0\n",
       "ENSG00000000419    0\n",
       "                  ..\n",
       "ENSG00000285990    0\n",
       "ENSG00000285991    0\n",
       "ENSG00000285992    0\n",
       "ENSG00000285993    0\n",
       "ENSG00000285994    0\n",
       "Length: 58737, dtype: int64"
      ]
     },
     "execution_count": 3,
     "metadata": {},
     "output_type": "execute_result"
    }
   ],
   "source": [
    "# Check the amount of missing data in each column\n",
    "lung_1_4.isna().sum()"
   ]
  },
  {
   "cell_type": "code",
   "execution_count": 4,
   "id": "f89135d0-3e02-48a4-aa03-b544437dad1d",
   "metadata": {
    "tags": []
   },
   "outputs": [
    {
     "data": {
      "text/plain": [
       "0"
      ]
     },
     "execution_count": 4,
     "metadata": {},
     "output_type": "execute_result"
    }
   ],
   "source": [
    "# Check the amount of missing data in all columns\n",
    "lung_1_4.isna().sum().sum()"
   ]
  },
  {
   "cell_type": "markdown",
   "id": "2c2c60fc-2a53-48bb-b753-0281ef464c72",
   "metadata": {},
   "source": [
    "### EDA\n",
    "\n",
    "Let’s first start by plotting the distribution of samples corresponding to each lung cancer type. We first create a DataFrame of the class column, then calculate the number of rows corresponding to each class, and then reset the index to make it easy for plotting."
   ]
  },
  {
   "cell_type": "code",
   "execution_count": 5,
   "id": "befe358a-c40f-4460-907b-fd72421fbef7",
   "metadata": {
    "tags": []
   },
   "outputs": [],
   "source": [
    "df = lung_1_4['class'].value_counts().reset_index()"
   ]
  },
  {
   "cell_type": "code",
   "execution_count": 6,
   "id": "53eac391-a74e-4dfd-b7f1-2f6ebcc0ca46",
   "metadata": {
    "tags": []
   },
   "outputs": [
    {
     "data": {
      "text/plain": [
       "Text(0, 0.5, 'Class')"
      ]
     },
     "execution_count": 6,
     "metadata": {},
     "output_type": "execute_result"
    },
    {
     "data": {
      "image/png": "[encoded data removed]",
      "text/plain": [
       "<Figure size 640x480 with 1 Axes>"
      ]
     },
     "metadata": {},
     "output_type": "display_data"
    }
   ],
   "source": [
    "# Visualize the classes on a bar plot\n",
    "import seaborn as sns\n",
    "import matplotlib.pyplot as plt\n",
    "\n",
    "sns.barplot(x = \"class\", y = \"index\", data = df)\n",
    "plt.xlabel(\"Number of samples\")\n",
    "plt.ylabel(\"Class\")"
   ]
  },
  {
   "cell_type": "markdown",
   "id": "05b72261-c73a-41c0-a736-6fa134932870",
   "metadata": {},
   "source": [
    "We have a problem now. As you can see, there are two types of samples, both of which are classified as Normal and the same for Tumor. Let’s look at the different classes closely and see what’s going on:"
   ]
  },
  {
   "cell_type": "code",
   "execution_count": 7,
   "id": "4bea0579-3bcd-45ce-8229-09063fd0a059",
   "metadata": {
    "tags": []
   },
   "outputs": [
    {
     "data": {
      "text/plain": [
       "{' Normal', ' Tumor', 'Normal', 'Tumor'}"
      ]
     },
     "execution_count": 7,
     "metadata": {},
     "output_type": "execute_result"
    }
   ],
   "source": [
    "set(lung_1_4['class'])"
   ]
  },
  {
   "cell_type": "markdown",
   "id": "ec411309-6bbe-45c6-b5d5-73124d8a85f7",
   "metadata": {},
   "source": [
    "If you look closely, we notice that there is an extra space in front of the first and second classes. Let’s rename those right away using the following replace method:"
   ]
  },
  {
   "cell_type": "code",
   "execution_count": 8,
   "id": "9c0fba65-3dd6-4c97-a8a3-e90c0ae120dd",
   "metadata": {
    "tags": []
   },
   "outputs": [
    {
     "data": {
      "text/plain": [
       "Text(0, 0.5, 'Class')"
      ]
     },
     "execution_count": 8,
     "metadata": {},
     "output_type": "execute_result"
    },
    {
     "data": {
      "image/png": "[encoded data removed]",
      "text/plain": [
       "<Figure size 640x480 with 1 Axes>"
      ]
     },
     "metadata": {},
     "output_type": "display_data"
    }
   ],
   "source": [
    "lung_1_4['class'] = lung_1_4['class'].replace(' Normal', 'Normal')\n",
    "lung_1_4['class'] = lung_1_4['class'].replace(' Tumor', 'Tumor')\n",
    "df = lung_1_4['class'].value_counts().reset_index()\n",
    "\n",
    "# Replot\n",
    "sns.barplot(x = \"class\", y = \"index\", data = df)\n",
    "plt.xlabel(\"Number of samples\")\n",
    "plt.ylabel(\"Class\")"
   ]
  },
  {
   "cell_type": "markdown",
   "id": "2aa4f81c-ec50-4b7f-9961-b12e68f1695f",
   "metadata": {},
   "source": [
    "### Data transformation\n",
    "\n",
    "Any systematic differences between samples must be corrected before proceeding to the next step. First, we will restrict our dataset to the first 10 columns since it is challenging to visualize all the columns at once in a single boxplot. Then, we convert the data from wide format to long format using the melt method in Pandas:"
   ]
  },
  {
   "cell_type": "code",
   "execution_count": 9,
   "id": "52871da1-5b9b-4274-8daa-4ce38732e50e",
   "metadata": {
    "tags": []
   },
   "outputs": [
    {
     "data": {
      "text/plain": [
       "Text(0, 0.5, 'Expression')"
      ]
     },
     "execution_count": 9,
     "metadata": {},
     "output_type": "execute_result"
    },
    {
     "data": {
      "image/png": "[encoded data removed]",
      "text/plain": [
       "<Figure size 640x480 with 1 Axes>"
      ]
     },
     "metadata": {},
     "output_type": "display_data"
    }
   ],
   "source": [
    "lung_1_4_m = pd.melt(lung_1_4.iloc[:,1:12], id_vars = \"class\")\n",
    "\n",
    "# Look at the distribution of expression across selected samples\n",
    "ax = sns.boxplot(x = \"variable\" , y = \"value\", data = lung_1_4_m, hue = \"class\")\n",
    "ax.set_xticklabels(ax.get_xticklabels(), rotation = 90)\n",
    "plt.xlabel(\"Genes\")\n",
    "plt.ylabel(\"Expression\")"
   ]
  },
  {
   "cell_type": "markdown",
   "id": "7de5d674-0497-4043-9e6e-e3734e438ace",
   "metadata": {},
   "source": [
    "Each sample has a somewhat similar distribution of gene expression values except for the first few samples (compare the medians). In addition, the expression values are already normalized and there is no need to normalize this further. So, let’s proceed without normalizing these samples."
   ]
  },
  {
   "cell_type": "markdown",
   "id": "86d5be8b-1148-4563-952a-1d32150ec0e5",
   "metadata": {},
   "source": [
    "## Train-test splitting\n",
    "\n",
    "In this case, we will split the train and test datasets in the ratio of 75:25."
   ]
  },
  {
   "cell_type": "code",
   "execution_count": 10,
   "id": "e989adb5-0742-4b10-ad9d-3d4554a70738",
   "metadata": {
    "tags": []
   },
   "outputs": [
    {
     "name": "stdout",
     "output_type": "stream",
     "text": [
      "[1. 0. 1. 0. 1. 0. 1. 0. 1.]\n"
     ]
    }
   ],
   "source": [
    "# Drop the ID and class columns in the dataset, and convert it to a NumPy ndarray\n",
    "x_data = lung_1_4.drop(['class', 'ID'], axis = 1).values\n",
    "\n",
    "# Similarly, we will create a NumPy ndarray for the labels\n",
    "y_data = lung_1_4['class'].values\n",
    "\n",
    "# Convert the categorical data in the type column to numbers using the ordinal encoding method\n",
    "classes = lung_1_4['class'].unique().tolist()\n",
    "\n",
    "import numpy as np\n",
    "func = lambda x: classes.index(x)\n",
    "y_data = np.asarray([func(i) for i in y_data], dtype = \"float32\")\n",
    "print(y_data[1:10])"
   ]
  },
  {
   "cell_type": "markdown",
   "id": "46c84860-daf1-41cd-b536-932bc2c80811",
   "metadata": {},
   "source": [
    "Here, 0 represents the Normal class, while 1 represents the Tumor class. Now, we are ready to split the data into training and testing."
   ]
  },
  {
   "cell_type": "code",
   "execution_count": 11,
   "id": "6534ab5b-df2a-4f41-9821-689d1f38f778",
   "metadata": {
    "tags": []
   },
   "outputs": [
    {
     "name": "stdout",
     "output_type": "stream",
     "text": [
      "Training X shape: (234, 58735)\n",
      "Training Y shape: (234,)\n",
      "Test X shape: (79, 58735)\n",
      "Test Y shape: (79,)\n"
     ]
    }
   ],
   "source": [
    "from sklearn.linear_model import LogisticRegression\n",
    "from sklearn.model_selection import train_test_split\n",
    "\n",
    "X_train, X_test, y_train, y_test = train_test_split(x_data, y_data, random_state = 42, test_size = 0.25, stratify = y_data)\n",
    "\n",
    "print(f'Training X shape: {X_train.shape}')\n",
    "print(f'Training Y shape: {y_train.shape}')\n",
    "print(f'Test X shape: {X_test.shape}')\n",
    "print(f'Test Y shape: {y_test.shape}')"
   ]
  },
  {
   "cell_type": "markdown",
   "id": "c21f7b2c-1d97-4b94-bd8e-763882658470",
   "metadata": {},
   "source": [
    "## Model training"
   ]
  },
  {
   "cell_type": "code",
   "execution_count": 12,
   "id": "f44a4369-f61a-4d7e-90ee-cfed9a6a6e3d",
   "metadata": {
    "tags": []
   },
   "outputs": [
    {
     "name": "stderr",
     "output_type": "stream",
     "text": [
      "/Library/Frameworks/Python.framework/Versions/3.10/lib/python3.10/site-packages/sklearn/linear_model/_logistic.py:458: ConvergenceWarning: lbfgs failed to converge (status=1):\n",
      "STOP: TOTAL NO. of ITERATIONS REACHED LIMIT.\n",
      "\n",
      "Increase the number of iterations (max_iter) or scale the data as shown in:\n",
      "    https://scikit-learn.org/stable/modules/preprocessing.html\n",
      "Please also refer to the documentation for alternative solver options:\n",
      "    https://scikit-learn.org/stable/modules/linear_model.html#logistic-regression\n",
      "  n_iter_i = _check_optimize_result(\n"
     ]
    },
    {
     "data": {
      "text/html": [
       "<style>#sk-container-id-1 {color: black;background-color: white;}#sk-container-id-1 pre{padding: 0;}#sk-container-id-1 div.sk-toggleable {background-color: white;}#sk-container-id-1 label.sk-toggleable__label {cursor: pointer;display: block;width: 100%;margin-bottom: 0;padding: 0.3em;box-sizing: border-box;text-align: center;}#sk-container-id-1 label.sk-toggleable__label-arrow:before {content: \"▸\";float: left;margin-right: 0.25em;color: #696969;}#sk-container-id-1 label.sk-toggleable__label-arrow:hover:before {color: black;}#sk-container-id-1 div.sk-estimator:hover label.sk-toggleable__label-arrow:before {color: black;}#sk-container-id-1 div.sk-toggleable__content {max-height: 0;max-width: 0;overflow: hidden;text-align: left;background-color: #f0f8ff;}#sk-container-id-1 div.sk-toggleable__content pre {margin: 0.2em;color: black;border-radius: 0.25em;background-color: #f0f8ff;}#sk-container-id-1 input.sk-toggleable__control:checked~div.sk-toggleable__content {max-height: 200px;max-width: 100%;overflow: auto;}#sk-container-id-1 input.sk-toggleable__control:checked~label.sk-toggleable__label-arrow:before {content: \"▾\";}#sk-container-id-1 div.sk-estimator input.sk-toggleable__control:checked~label.sk-toggleable__label {background-color: #d4ebff;}#sk-container-id-1 div.sk-label input.sk-toggleable__control:checked~label.sk-toggleable__label {background-color: #d4ebff;}#sk-container-id-1 input.sk-hidden--visually {border: 0;clip: rect(1px 1px 1px 1px);clip: rect(1px, 1px, 1px, 1px);height: 1px;margin: -1px;overflow: hidden;padding: 0;position: absolute;width: 1px;}#sk-container-id-1 div.sk-estimator {font-family: monospace;background-color: #f0f8ff;border: 1px dotted black;border-radius: 0.25em;box-sizing: border-box;margin-bottom: 0.5em;}#sk-container-id-1 div.sk-estimator:hover {background-color: #d4ebff;}#sk-container-id-1 div.sk-parallel-item::after {content: \"\";width: 100%;border-bottom: 1px solid gray;flex-grow: 1;}#sk-container-id-1 div.sk-label:hover label.sk-toggleable__label {background-color: #d4ebff;}#sk-container-id-1 div.sk-serial::before {content: \"\";position: absolute;border-left: 1px solid gray;box-sizing: border-box;top: 0;bottom: 0;left: 50%;z-index: 0;}#sk-container-id-1 div.sk-serial {display: flex;flex-direction: column;align-items: center;background-color: white;padding-right: 0.2em;padding-left: 0.2em;position: relative;}#sk-container-id-1 div.sk-item {position: relative;z-index: 1;}#sk-container-id-1 div.sk-parallel {display: flex;align-items: stretch;justify-content: center;background-color: white;position: relative;}#sk-container-id-1 div.sk-item::before, #sk-container-id-1 div.sk-parallel-item::before {content: \"\";position: absolute;border-left: 1px solid gray;box-sizing: border-box;top: 0;bottom: 0;left: 50%;z-index: -1;}#sk-container-id-1 div.sk-parallel-item {display: flex;flex-direction: column;z-index: 1;position: relative;background-color: white;}#sk-container-id-1 div.sk-parallel-item:first-child::after {align-self: flex-end;width: 50%;}#sk-container-id-1 div.sk-parallel-item:last-child::after {align-self: flex-start;width: 50%;}#sk-container-id-1 div.sk-parallel-item:only-child::after {width: 0;}#sk-container-id-1 div.sk-dashed-wrapped {border: 1px dashed gray;margin: 0 0.4em 0.5em 0.4em;box-sizing: border-box;padding-bottom: 0.4em;background-color: white;}#sk-container-id-1 div.sk-label label {font-family: monospace;font-weight: bold;display: inline-block;line-height: 1.2em;}#sk-container-id-1 div.sk-label-container {text-align: center;}#sk-container-id-1 div.sk-container {/* jupyter's `normalize.less` sets `[hidden] { display: none; }` but bootstrap.min.css set `[hidden] { display: none !important; }` so we also need the `!important` here to be able to override the default hidden behavior on the sphinx rendered scikit-learn.org. See: https://github.com/scikit-learn/scikit-learn/issues/21755 */display: inline-block !important;position: relative;}#sk-container-id-1 div.sk-text-repr-fallback {display: none;}</style><div id=\"sk-container-id-1\" class=\"sk-top-container\"><div class=\"sk-text-repr-fallback\"><pre>LogisticRegression()</pre><b>In a Jupyter environment, please rerun this cell to show the HTML representation or trust the notebook. <br />On GitHub, the HTML representation is unable to render, please try loading this page with nbviewer.org.</b></div><div class=\"sk-container\" hidden><div class=\"sk-item\"><div class=\"sk-estimator sk-toggleable\"><input class=\"sk-toggleable__control sk-hidden--visually\" id=\"sk-estimator-id-1\" type=\"checkbox\" checked><label for=\"sk-estimator-id-1\" class=\"sk-toggleable__label sk-toggleable__label-arrow\">LogisticRegression</label><div class=\"sk-toggleable__content\"><pre>LogisticRegression()</pre></div></div></div></div></div>"
      ],
      "text/plain": [
       "LogisticRegression()"
      ]
     },
     "execution_count": 12,
     "metadata": {},
     "output_type": "execute_result"
    }
   ],
   "source": [
    "model_lung1 = LogisticRegression()\n",
    "model_lung1.fit(X_train, y_train)"
   ]
  },
  {
   "cell_type": "markdown",
   "id": "01fcedf7-efa8-49b8-b5c0-3a64e142666b",
   "metadata": {},
   "source": [
    "## Model evaluation\n",
    "\n",
    "Now that model has been trained, let’s run the model on one sample of the test data."
   ]
  },
  {
   "cell_type": "code",
   "execution_count": 13,
   "id": "cb14214e-de94-4640-bdd1-eb73e25c7330",
   "metadata": {
    "tags": []
   },
   "outputs": [
    {
     "data": {
      "text/plain": [
       "array([1.], dtype=float32)"
      ]
     },
     "execution_count": 13,
     "metadata": {},
     "output_type": "execute_result"
    }
   ],
   "source": [
    "pred = model_lung1.predict(X_test[12].reshape(1, -1))\n",
    "pred"
   ]
  },
  {
   "cell_type": "markdown",
   "id": "00ebd11f-902f-4507-a5df-23458703fe8b",
   "metadata": {},
   "source": [
    "Do predictions for all samples in the test data:"
   ]
  },
  {
   "cell_type": "code",
   "execution_count": 14,
   "id": "f3d80e43-b523-461c-8275-d781d3380894",
   "metadata": {
    "tags": []
   },
   "outputs": [],
   "source": [
    "all_pred_lung = model_lung1.predict(X_test)"
   ]
  },
  {
   "cell_type": "markdown",
   "id": "b4f025ce-5a51-463d-b875-770cda35dc94",
   "metadata": {},
   "source": [
    "Let's calculate the accuracy score:"
   ]
  },
  {
   "cell_type": "code",
   "execution_count": 15,
   "id": "6947e153-bfda-428f-8568-62f9ef329235",
   "metadata": {
    "tags": []
   },
   "outputs": [
    {
     "data": {
      "text/plain": [
       "0.9620253164556962"
      ]
     },
     "execution_count": 15,
     "metadata": {},
     "output_type": "execute_result"
    }
   ],
   "source": [
    "model_lung1.score(X_test, y_test)"
   ]
  },
  {
   "cell_type": "markdown",
   "id": "f690a273-d5ef-4c77-a991-9a1fbb69ec4d",
   "metadata": {},
   "source": [
    "Let’s run a confusion matrix:"
   ]
  },
  {
   "cell_type": "code",
   "execution_count": 16,
   "id": "6c52ad6c-76cf-48a3-b21a-e099b13a5b79",
   "metadata": {
    "tags": []
   },
   "outputs": [
    {
     "data": {
      "image/png": "[encoded data removed]",
      "text/plain": [
       "<Figure size 640x480 with 2 Axes>"
      ]
     },
     "metadata": {},
     "output_type": "display_data"
    }
   ],
   "source": [
    "from sklearn.metrics import confusion_matrix ,ConfusionMatrixDisplay, classification_report\n",
    "\n",
    "cm = confusion_matrix(y_test, all_pred_lung)\n",
    "disp = ConfusionMatrixDisplay(confusion_matrix = cm, display_labels = [\"Normal\", 'Tumor'])\n",
    "disp.plot()\n",
    "plt.show()"
   ]
  },
  {
   "cell_type": "markdown",
   "id": "13d6e6b6-f2fd-49d5-8127-0c89bf3bab0c",
   "metadata": {},
   "source": [
    "Please note that the cost of misclassifying a sample is high for false negative samples compared to false positive ones because we don’t want to miss any patient that has a tumor.\n",
    "\n",
    "Now, let's get the classification report:"
   ]
  },
  {
   "cell_type": "code",
   "execution_count": 17,
   "id": "81d544d1-9c27-4166-8dab-bc1c55639fdb",
   "metadata": {
    "tags": []
   },
   "outputs": [
    {
     "name": "stdout",
     "output_type": "stream",
     "text": [
      "              precision    recall  f1-score   support\n",
      "\n",
      "         0.0       0.91      1.00      0.95        29\n",
      "         1.0       1.00      0.94      0.97        50\n",
      "\n",
      "    accuracy                           0.96        79\n",
      "   macro avg       0.95      0.97      0.96        79\n",
      "weighted avg       0.97      0.96      0.96        79\n",
      "\n"
     ]
    }
   ],
   "source": [
    "print(classification_report(y_test, all_pred_lung))"
   ]
  }
 ],
 "metadata": {
  "kernelspec": {
   "display_name": "Python 3 (ipykernel)",
   "language": "python",
   "name": "python3"
  },
  "language_info": {
   "codemirror_mode": {
    "name": "ipython",
    "version": 3
   },
   "file_extension": ".py",
   "mimetype": "text/x-python",
   "name": "python",
   "nbconvert_exporter": "python",
   "pygments_lexer": "ipython3",
   "version": "3.10.7"
  }
 },
 "nbformat": 4,
 "nbformat_minor": 5
}
