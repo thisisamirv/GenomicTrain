{
 "cells": [
  {
   "cell_type": "markdown",
   "id": "77bb536b-c136-4107-83bc-d4707bafeea1",
   "metadata": {},
   "source": [
    "# Why CNNs"
   ]
  },
  {
   "cell_type": "markdown",
   "id": "46be518f-b213-409d-a031-8979e20efd04",
   "metadata": {},
   "source": [
    "**Problems with FCNNs:**\n",
    "1. There are too many parameters to learn (e.g., for a 32 x 32 color image, we would have 32 x 32 x 3 = 3,072 parameters).\n",
    "2. The 2D or 3D image is converted to a 1D flattened vector, and so the spatial relationship of the different pixels is completely lost.\n",
    "\n",
    "CNNs are currently being used in genomics tasks where local patterns are very important to the outcome—for example, the detection of conserved motifs to identify blocks of genes in a DNA sequence or binding sites of a protein such as a transcription factor (TF)."
   ]
  },
  {
   "cell_type": "code",
   "execution_count": null,
   "id": "037d6f14-84c1-4304-943b-fd608a424561",
   "metadata": {},
   "outputs": [],
   "source": []
  }
 ],
 "metadata": {
  "kernelspec": {
   "display_name": "Python 3 (ipykernel)",
   "language": "python",
   "name": "python3"
  },
  "language_info": {
   "codemirror_mode": {
    "name": "ipython",
    "version": 3
   },
   "file_extension": ".py",
   "mimetype": "text/x-python",
   "name": "python",
   "nbconvert_exporter": "python",
   "pygments_lexer": "ipython3",
   "version": "3.10.7"
  }
 },
 "nbformat": 4,
 "nbformat_minor": 5
}
