{
 "cells": [
  {
   "cell_type": "markdown",
   "id": "ce6dc8b5-f46b-4459-94e8-cad1ee4dbf34",
   "metadata": {
    "jp-MarkdownHeadingCollapsed": true,
    "tags": []
   },
   "source": [
    "# Intro\n",
    "Let's begin with an example: Suppose we want to predict whether a particular sequence of DNA has a binding site for a transcription factor (TF) of your interest or not. Using the traditional approach, we would use a positional weight matrix (PWF) to scan the sequence and identify the potential motifs that are overrepresented. Using an ML-based approach, we would give an ML model plenty of DNA sequences until the ML model learns the mathematical relationship between the features from those DNA sequences that either have or don’t have binding sites (labels) based on experimental results.\n",
    "\n",
    "## Sequencing techniques\n",
    "* First-generation DNA sequencing: Sanger sequencing\n",
    "* Second-generation DNA sequencing: Illumina sequencing by synthesis (SBS) technology. The typical size of generated fragments are in the range of 50-300 bases.\n",
    "* Third-generation DNA sequencing: Illumina Pacific Bioscience single-molecule sequencing real-time (SMRT) and Oxford Nanopore Technologies nanopore sequencing. The typical size of generated fragments are in the range of 15000 bases.\n",
    "\n",
    "## Cloud computing for genomics data analysis\n",
    "* Amazon Web Services (AWS)\n",
    "* Azure\n",
    "* Google Cloud Platform (GCP)"
   ]
  },
  {
   "cell_type": "markdown",
   "id": "064d8ce4-c016-49a4-9ebc-def53b38a4fa",
   "metadata": {
    "tags": []
   },
   "source": [
    "# Biopython\n",
    "## Seq object\n",
    "It essentially combines a Python string with biological methods such as DNA, RNA, or protein:"
   ]
  },
  {
   "cell_type": "code",
   "execution_count": 1,
   "id": "a950a5f8-7468-4d96-8d11-18811cd0ed89",
   "metadata": {
    "tags": []
   },
   "outputs": [],
   "source": [
    "# Create Seq object\n",
    "from Bio.Seq import Seq\n",
    "\n",
    "my_seq = Seq(\"AGTAGGACAGAT\")"
   ]
  },
  {
   "cell_type": "code",
   "execution_count": 2,
   "id": "f0356b57-3371-4557-b664-651605632cae",
   "metadata": {
    "tags": []
   },
   "outputs": [
    {
     "name": "stdout",
     "output_type": "stream",
     "text": [
      "AGTAGGACAGAT\n"
     ]
    }
   ],
   "source": [
    "# Print Seq object\n",
    "print(my_seq)"
   ]
  },
  {
   "cell_type": "code",
   "execution_count": 3,
   "id": "ea58d9ca-2ecc-4417-bb23-0cfbc8f498f0",
   "metadata": {
    "tags": []
   },
   "outputs": [
    {
     "name": "stdout",
     "output_type": "stream",
     "text": [
      "TCATCCTGTCTA\n"
     ]
    }
   ],
   "source": [
    "# Return the complement of the Seq object\n",
    "print(my_seq.complement())"
   ]
  },
  {
   "cell_type": "markdown",
   "id": "38081378-aa11-4b65-8dc7-593c5c77bfc5",
   "metadata": {},
   "source": [
    "## SeqRecord object\n",
    "This object differs from the Seq object in that it holds a sequence (as a Seq object) with additional information such as identifier, name, and description."
   ]
  },
  {
   "cell_type": "code",
   "execution_count": 4,
   "id": "d065f554-40c4-4551-ac09-027cf453d539",
   "metadata": {
    "tags": []
   },
   "outputs": [],
   "source": [
    "# Create SeqRecord object\n",
    "from Bio.SeqRecord import SeqRecord\n",
    "\n",
    "my_seqrecord = SeqRecord(\n",
    "    Seq(\"AGTAGGACAGAT\"),\n",
    "    id=\"ENSG00000121966\",\n",
    "    name=\"Gene1\",\n",
    "    description=\"A sample gene\",\n",
    ")"
   ]
  },
  {
   "cell_type": "code",
   "execution_count": 5,
   "id": "fe55b53d-2f50-4413-985f-5563cabe134a",
   "metadata": {
    "tags": []
   },
   "outputs": [
    {
     "name": "stdout",
     "output_type": "stream",
     "text": [
      "ID: ENSG00000121966\n",
      "Name: Gene1\n",
      "Description: A sample gene\n",
      "Number of features: 0\n",
      "Seq('AGTAGGACAGAT')\n"
     ]
    }
   ],
   "source": [
    "# Print SeqRecord object\n",
    "print(my_seqrecord)"
   ]
  },
  {
   "cell_type": "markdown",
   "id": "6db60d0a-6e54-43ea-a72c-d89b3a0fac61",
   "metadata": {},
   "source": [
    "## SeqIO object\n",
    "The SeqIO object in Biopython provides the standard sequence input/output interface. It supports several file formats as input and output including FASTA, FASTQ, and GenBank (GB)."
   ]
  },
  {
   "cell_type": "markdown",
   "id": "59e97cde-b414-4421-afa1-2152110a460f",
   "metadata": {},
   "source": [
    "# Use case – Sequence analysis of Covid-19"
   ]
  },
  {
   "cell_type": "markdown",
   "id": "fbcc03e8-f75e-4992-ba10-368b17ce7dbe",
   "metadata": {},
   "source": [
    "First let's import (parse) the FASTA file:"
   ]
  },
  {
   "cell_type": "code",
   "execution_count": 6,
   "id": "47bc2a20-6d4d-46c7-be49-f14328d557f9",
   "metadata": {
    "tags": []
   },
   "outputs": [
    {
     "name": "stdout",
     "output_type": "stream",
     "text": [
      "Sequence information: \n",
      "ID: NC_045512.2\n",
      "Name: NC_045512.2\n",
      "Description: NC_045512.2 Severe acute respiratory syndrome coronavirus 2 isolate Wuhan-Hu-1, complete genome\n",
      "Number of features: 0\n",
      "Seq('ATTAAAGGTTTATACCTTCCCAGGTAACAAACCAACCAACTTTCGATCTCTTGT...AAA')\n",
      "Sequence length: 29903\n"
     ]
    }
   ],
   "source": [
    "# Parse file\n",
    "from Bio import SeqIO\n",
    "\n",
    "with open(\"Data/covid19.fasta\") as file:\n",
    "    for record in SeqIO.parse(file, \"fasta\"):\n",
    "        print(f'Sequence information: \\n{record}')\n",
    "        print(f'Sequence length: {len(record)}')"
   ]
  },
  {
   "cell_type": "markdown",
   "id": "c3b34b8d-0561-4a38-a0af-c82dcecdbffd",
   "metadata": {},
   "source": [
    "## Calculate GC content\n",
    "\n",
    "Now let's calculate its GC content. GC content is one of the important features of a DNA sequence as it is an important predictor of gene function and species ecology. GC content is calculated by counting the number of Gs and Cs in the sequence and dividing that by the total sequence length."
   ]
  },
  {
   "cell_type": "code",
   "execution_count": 7,
   "id": "fc9e0923-91eb-416a-a15f-3777f2c37e6e",
   "metadata": {
    "tags": []
   },
   "outputs": [
    {
     "name": "stdout",
     "output_type": "stream",
     "text": [
      "GC content: 0.38\n"
     ]
    }
   ],
   "source": [
    "from Bio import SeqIO\n",
    "from Bio.SeqUtils import gc_fraction\n",
    "\n",
    "with open(\"Data/covid19.fasta\") as file:\n",
    "    for record in SeqIO.parse(file, \"fasta\"):\n",
    "        gc_content = gc_fraction(record)\n",
    "        print(f'GC content: {round(gc_content, 2)}')"
   ]
  },
  {
   "cell_type": "markdown",
   "id": "79365174-3c40-4987-b657-cbe0ebc95295",
   "metadata": {},
   "source": [
    "## Calculate nucleotide content\n",
    "\n",
    "Nucleotide content such as the percentages of A, T, C, and G are useful for sequence characterization purposes."
   ]
  },
  {
   "cell_type": "code",
   "execution_count": 8,
   "id": "8f961d09-9970-449c-8441-818431be1ef0",
   "metadata": {
    "tags": []
   },
   "outputs": [
    {
     "name": "stdout",
     "output_type": "stream",
     "text": [
      "32.1% T\n",
      "29.9% A\n",
      "18.4% C\n",
      "19.6% G\n"
     ]
    }
   ],
   "source": [
    "from Bio import SeqIO\n",
    "\n",
    "with open(\"Data/covid19.fasta\") as file:\n",
    "    for record in SeqIO.parse(file, \"fasta\"):\n",
    "        seq_record = record.seq\n",
    "        seq_length = len(record.seq)\n",
    "        print(f'{round(seq_record.count(\"T\") / seq_length * 100, 1)}% T')\n",
    "        print(f'{round(seq_record.count(\"A\") / seq_length * 100, 1)}% A')\n",
    "        print(f'{round(seq_record.count(\"C\") / seq_length * 100, 1)}% C')\n",
    "        print(f'{round(seq_record.count(\"G\") / seq_length * 100, 1)}% G')"
   ]
  },
  {
   "cell_type": "markdown",
   "id": "1f2d6fa9-10d8-49c8-8536-2837e3983d0e",
   "metadata": {},
   "source": [
    "## Calculate dinucleotide content\n",
    "\n",
    "It’s also valuable to count the dinucleotides (AT, AC, GT, and so on)."
   ]
  },
  {
   "cell_type": "code",
   "execution_count": 9,
   "id": "20677cb6-d7df-4d36-b413-cb8d45ce1293",
   "metadata": {
    "tags": []
   },
   "outputs": [
    {
     "name": "stdout",
     "output_type": "stream",
     "text": [
      "{'AA': 2169, 'AT': 2308, 'AC': 2023, 'AG': 1742, 'TA': 2377, 'TT': 2454, 'TC': 1413, 'TG': 2589, 'CA': 2084, 'CT': 2081, 'CC': 784, 'CG': 439, 'GA': 1612, 'GT': 1990, 'GC': 1168, 'GG': 973}\n"
     ]
    }
   ],
   "source": [
    "from Bio import SeqIO\n",
    "\n",
    "nucl = ['A', 'T', 'C', 'G']\n",
    "di_nucl_dict = {}\n",
    "with open(\"Data/covid19.fasta\") as file:\n",
    "    for record in SeqIO.parse(file, \"fasta\"):\n",
    "        for n1 in nucl:\n",
    "            for n2 in nucl:\n",
    "                di = str(n1) + str(n2)\n",
    "                di_nucl_dict[di] = record.seq.count(di)\n",
    "\n",
    "print(di_nucl_dict)"
   ]
  },
  {
   "cell_type": "code",
   "execution_count": 10,
   "id": "a0568933-e843-4b13-91c4-5dcd886d0369",
   "metadata": {
    "tags": []
   },
   "outputs": [
    {
     "data": {
      "image/png": "[encoded data removed]",
      "text/plain": [
       "<Figure size 640x480 with 1 Axes>"
      ]
     },
     "metadata": {},
     "output_type": "display_data"
    }
   ],
   "source": [
    "# Generate a dinucleotide plot\n",
    "import matplotlib.pyplot as plt\n",
    "\n",
    "di = [k for k, v in di_nucl_dict.items()]\n",
    "counts = [v for k, v in di_nucl_dict.items()]\n",
    "plt.bar(di,counts, color = \"green\")\n",
    "plt.ylabel(\"Counts\")\n",
    "plt.show()"
   ]
  },
  {
   "cell_type": "markdown",
   "id": "cfe59033-7d74-4e1e-81d7-307795fe6793",
   "metadata": {},
   "source": [
    "## Save features\n",
    "\n",
    "Let's save all the features that we have extracted so far into a file and get it ready for modeling."
   ]
  },
  {
   "cell_type": "code",
   "execution_count": 11,
   "id": "b2f8569a-1f87-43de-b3f7-21259710a029",
   "metadata": {
    "tags": []
   },
   "outputs": [
    {
     "data": {
      "text/html": [
       "<div>\n",
       "<style scoped>\n",
       "    .dataframe tbody tr th:only-of-type {\n",
       "        vertical-align: middle;\n",
       "    }\n",
       "\n",
       "    .dataframe tbody tr th {\n",
       "        vertical-align: top;\n",
       "    }\n",
       "\n",
       "    .dataframe thead th {\n",
       "        text-align: right;\n",
       "    }\n",
       "</style>\n",
       "<table border=\"1\" class=\"dataframe\">\n",
       "  <thead>\n",
       "    <tr style=\"text-align: right;\">\n",
       "      <th></th>\n",
       "      <th>AA</th>\n",
       "      <th>AT</th>\n",
       "      <th>AC</th>\n",
       "      <th>AG</th>\n",
       "      <th>A_count</th>\n",
       "      <th>C_count</th>\n",
       "      <th>G_count</th>\n",
       "      <th>T_count</th>\n",
       "      <th>GC_content</th>\n",
       "      <th>Size</th>\n",
       "      <th>...</th>\n",
       "      <th>TG</th>\n",
       "      <th>CA</th>\n",
       "      <th>CT</th>\n",
       "      <th>CC</th>\n",
       "      <th>CG</th>\n",
       "      <th>GA</th>\n",
       "      <th>GT</th>\n",
       "      <th>GC</th>\n",
       "      <th>GG</th>\n",
       "      <th>virus</th>\n",
       "    </tr>\n",
       "  </thead>\n",
       "  <tbody>\n",
       "    <tr>\n",
       "      <th>0</th>\n",
       "      <td>2169</td>\n",
       "      <td>2308</td>\n",
       "      <td>2023</td>\n",
       "      <td>1742</td>\n",
       "      <td>29.94</td>\n",
       "      <td>18.37</td>\n",
       "      <td>19.61</td>\n",
       "      <td>32.08</td>\n",
       "      <td>0.38</td>\n",
       "      <td>29903</td>\n",
       "      <td>...</td>\n",
       "      <td>2589</td>\n",
       "      <td>2084</td>\n",
       "      <td>2081</td>\n",
       "      <td>784</td>\n",
       "      <td>439</td>\n",
       "      <td>1612</td>\n",
       "      <td>1990</td>\n",
       "      <td>1168</td>\n",
       "      <td>973</td>\n",
       "      <td>Covid19</td>\n",
       "    </tr>\n",
       "  </tbody>\n",
       "</table>\n",
       "<p>1 rows × 23 columns</p>\n",
       "</div>"
      ],
      "text/plain": [
       "     AA    AT    AC    AG  A_count  C_count  G_count  T_count  GC_content  \\\n",
       "0  2169  2308  2023  1742    29.94    18.37    19.61    32.08        0.38   \n",
       "\n",
       "    Size  ...    TG    CA    CT   CC   CG    GA    GT    GC   GG    virus  \n",
       "0  29903  ...  2589  2084  2081  784  439  1612  1990  1168  973  Covid19  \n",
       "\n",
       "[1 rows x 23 columns]"
      ]
     },
     "execution_count": 11,
     "metadata": {},
     "output_type": "execute_result"
    }
   ],
   "source": [
    "# Extract all features\n",
    "from Bio import SeqIO\n",
    "from Bio.SeqUtils import gc_fraction\n",
    "import pandas as pd\n",
    "\n",
    "nucl = ['A', 'T', 'C', 'G']\n",
    "features = {}\n",
    "\n",
    "with open('Data/covid19.fasta') as file:\n",
    "    for record in SeqIO.parse(file, \"fasta\"):\n",
    "        for n1 in nucl:\n",
    "            for n2 in nucl:\n",
    "                di = str(n1) + str(n2)\n",
    "                features[di] = record.seq.count(di)\n",
    "            A_count = record.seq.count('A')\n",
    "            features['A_count'] = round(A_count / len(record) * 100, 2)\n",
    "            C_count = record.seq.count('C')\n",
    "            features['C_count'] = round(C_count / len(record) * 100, 2)\n",
    "            G_count = record.seq.count('G')\n",
    "            features['G_count'] = round(G_count / len(record) * 100, 2)\n",
    "            T_count = record.seq.count('T')\n",
    "            features['T_count'] = round(T_count / len(record) * 100, 2)\n",
    "            features['GC_content'] = round(gc_fraction(record), 2)\n",
    "            features['Size'] = len(record)\n",
    "\n",
    "# Create a dataframe\n",
    "features_df = pd.DataFrame.from_dict([features])\n",
    "features_df['virus'] = \"Covid19\"\n",
    "\n",
    "# Save features into a sile\n",
    "features_df.to_csv(\"Output/covid19_features.csv\", index = None)\n",
    "\n",
    "# Check the output file\n",
    "features = pd.read_csv(\"Output/covid19_features.csv\")\n",
    "features"
   ]
  },
  {
   "cell_type": "markdown",
   "id": "051157a8-3ee7-4337-973f-22a4bb0fbbe9",
   "metadata": {},
   "source": [
    "# Motif finder\n",
    "\n",
    "A motif is a pattern in a nucleotide or amino acid sequence that has a specific structure. Sequence motifs play a key role in gene expression regulating both transcriptional and post-transcriptional levels."
   ]
  },
  {
   "cell_type": "code",
   "execution_count": 12,
   "id": "d1523e5e-5b51-4a44-9ad1-17e59276f7c0",
   "metadata": {
    "tags": []
   },
   "outputs": [
    {
     "name": "stdout",
     "output_type": "stream",
     "text": [
      "ACGT\n",
      "TCGA\n",
      "CGGC\n",
      "\n"
     ]
    }
   ],
   "source": [
    "from Bio import motifs\n",
    "from Bio.Seq import Seq\n",
    "\n",
    "# Create a DNA motif Seq object\n",
    "my_motif = [Seq(\"ACGT\"), Seq(\"TCGA\"), Seq(\"CGGC\")]\n",
    "\n",
    "# Convert Seq object to motif object\n",
    "motifs = motifs.create(my_motif)\n",
    "print(motifs)"
   ]
  },
  {
   "cell_type": "markdown",
   "id": "9a555af0-a199-4d82-b7a0-a5e279110240",
   "metadata": {},
   "source": [
    "Let's print the counts of each nucleotide at each position. This can also refer as the position frequency matrix (PFM)."
   ]
  },
  {
   "cell_type": "code",
   "execution_count": 13,
   "id": "3a98c037-aa62-453e-8aed-b19d61b2b26e",
   "metadata": {
    "tags": []
   },
   "outputs": [
    {
     "name": "stdout",
     "output_type": "stream",
     "text": [
      "        0      1      2      3\n",
      "A:   1.00   0.00   0.00   1.00\n",
      "C:   1.00   2.00   0.00   1.00\n",
      "G:   0.00   1.00   3.00   0.00\n",
      "T:   1.00   0.00   0.00   1.00\n",
      "\n"
     ]
    }
   ],
   "source": [
    "print(motifs.counts)"
   ]
  },
  {
   "cell_type": "markdown",
   "id": "8bdef6db-55fc-43a9-aec9-25fe03413648",
   "metadata": {},
   "source": [
    "Now create a logo from the motifs:"
   ]
  },
  {
   "cell_type": "code",
   "execution_count": null,
   "id": "16189f05-0fe3-45bb-9994-94506b0eaec3",
   "metadata": {
    "tags": []
   },
   "outputs": [],
   "source": [
    "motifs.weblogo('Output/my_motif.png')"
   ]
  },
  {
   "cell_type": "markdown",
   "id": "a08f891a-3586-4c00-bf31-c756c6e8fba0",
   "metadata": {},
   "source": [
    "# Clear redundant files"
   ]
  },
  {
   "cell_type": "code",
   "execution_count": 15,
   "id": "d9cee17f-b95e-417f-9bf8-8bbf404131c7",
   "metadata": {
    "tags": []
   },
   "outputs": [],
   "source": [
    "import os\n",
    "from pathlib import Path\n",
    "file1 = \"Output/my_motif.png\"\n",
    "file2 = \"Output/covid19_features.csv\"\n",
    "\n",
    "# If file exists, delete it\n",
    "if os.path.isfile(file1):\n",
    "    os.remove(file1)\n",
    "\n",
    "if os.path.isfile(file2):\n",
    "    os.remove(file2)"
   ]
  }
 ],
 "metadata": {
  "kernelspec": {
   "display_name": "Python 3 (ipykernel)",
   "language": "python",
   "name": "python3"
  },
  "language_info": {
   "codemirror_mode": {
    "name": "ipython",
    "version": 3
   },
   "file_extension": ".py",
   "mimetype": "text/x-python",
   "name": "python",
   "nbconvert_exporter": "python",
   "pygments_lexer": "ipython3",
   "version": "3.10.7"
  }
 },
 "nbformat": 4,
 "nbformat_minor": 5
}
