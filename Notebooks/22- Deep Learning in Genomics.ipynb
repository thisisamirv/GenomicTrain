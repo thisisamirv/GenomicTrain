{
 "cells": [
  {
   "cell_type": "markdown",
   "id": "d3d93333-f27d-4f83-b256-21e1aaaffab1",
   "metadata": {
    "tags": []
   },
   "source": [
    "# Application of DNNs in genomics"
   ]
  },
  {
   "cell_type": "markdown",
   "id": "553fd1d1-58f3-472b-bae4-49adac56e6dd",
   "metadata": {},
   "source": [
    "## Gene expression prediction\n",
    "DNNs, with their ability to map the input-output data, are suited for gene expression-based disease classification. For example, CNNs were successfully used to classify Alzheimer’s disease."
   ]
  },
  {
   "cell_type": "markdown",
   "id": "be9051cf-0a4f-4fc8-9498-f31a45c595c6",
   "metadata": {},
   "source": [
    "## SNP prediction\n",
    "SNPs are commonly used to detect disease-causing genes in humans, predict a person’s response to drugs or their susceptibility to developing the disease, and classifying complex diseases using Genomics SNP data."
   ]
  },
  {
   "cell_type": "markdown",
   "id": "7e62b0c7-2089-44af-b059-279ed00bb603",
   "metadata": {},
   "source": [
    "## Protein structure predictions\n",
    "It involves modeling the relationship between the amino acids of a protein and its corresponding 3D structure. By 2020, AphaFold’s performance is impressive, and it is now considered the go-to model for predicting protein structure."
   ]
  },
  {
   "cell_type": "markdown",
   "id": "093687c9-ac0a-40d4-91d8-140ecb76c599",
   "metadata": {},
   "source": [
    "## Regulatory genomics\n",
    "Regulatory genomics is the study of gene regulatory elements such as promoters, enhancers, silencers, insulators, and so on. They play an important role in gene regulation and hence functionally characterizing them is very important. In addition to these gene regulatory elements, identifying sequence motifs in DNA and RNA regulatory regions is key since they represent target sites of a particular regulatory protein, such as the transcription factor (TF)."
   ]
  },
  {
   "cell_type": "markdown",
   "id": "a774399d-051a-456b-9cae-ccc29b7812b1",
   "metadata": {},
   "source": [
    "## Gene regulatory networks (GRNs)\n",
    "GRNs are defined as networks that are inferred by gene expression data. GRNs are an exciting area of functional genomics and represent causal relationships between the regulators and the target genes. GRNs are important to understand the causal map of network interactions, molecular marker detection, hub gene detection, and so on."
   ]
  },
  {
   "cell_type": "markdown",
   "id": "8c513c34-ae2e-47bd-8c07-51fd4a15026c",
   "metadata": {},
   "source": [
    "## Single-cell RNA sequencing (scRNA-Seq)\n",
    "scRNA-Seq enables gene expression measurements in individual cells, thereby enabling cell-type clustering. Despite its huge success, biological inference remains the major limitation because of the sparse nature of the generated data. In addition, there is a large volume of dropout events in the data."
   ]
  }
 ],
 "metadata": {
  "kernelspec": {
   "display_name": "Python 3 (ipykernel)",
   "language": "python",
   "name": "python3"
  },
  "language_info": {
   "codemirror_mode": {
    "name": "ipython",
    "version": 3
   },
   "file_extension": ".py",
   "mimetype": "text/x-python",
   "name": "python",
   "nbconvert_exporter": "python",
   "pygments_lexer": "ipython3",
   "version": "3.10.7"
  }
 },
 "nbformat": 4,
 "nbformat_minor": 5
}
